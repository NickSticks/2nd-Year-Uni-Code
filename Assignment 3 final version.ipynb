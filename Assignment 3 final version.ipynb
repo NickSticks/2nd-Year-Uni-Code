{
 "cells": [
  {
   "cell_type": "code",
   "execution_count": null,
   "metadata": {
    "scrolled": false
   },
   "outputs": [
    {
     "data": {
      "application/javascript": [
       "require.undef(\"nbextensions/vpython_libraries/jquery-ui.custom.min\");"
      ],
      "text/plain": [
       "<IPython.core.display.Javascript object>"
      ]
     },
     "metadata": {},
     "output_type": "display_data"
    },
    {
     "data": {
      "application/javascript": [
       "require.undef(\"nbextensions/vpython_libraries/glow.2.1.min\");"
      ],
      "text/plain": [
       "<IPython.core.display.Javascript object>"
      ]
     },
     "metadata": {},
     "output_type": "display_data"
    },
    {
     "data": {
      "application/javascript": [
       "require.undef(\"nbextensions/vpython_libraries/glowcomm\");"
      ],
      "text/plain": [
       "<IPython.core.display.Javascript object>"
      ]
     },
     "metadata": {},
     "output_type": "display_data"
    },
    {
     "data": {
      "application/javascript": [
       "require([\"nbextensions/vpython_libraries/jquery-ui.custom.min\"], function(){console.log(\"JQUERY LOADED\");})"
      ],
      "text/plain": [
       "<IPython.core.display.Javascript object>"
      ]
     },
     "metadata": {},
     "output_type": "display_data"
    },
    {
     "data": {
      "application/javascript": [
       "require([\"nbextensions/vpython_libraries/glow.2.1.min\"], function(){console.log(\"GLOW LOADED\");})"
      ],
      "text/plain": [
       "<IPython.core.display.Javascript object>"
      ]
     },
     "metadata": {},
     "output_type": "display_data"
    },
    {
     "data": {
      "application/javascript": [
       "require([\"nbextensions/vpython_libraries/glowcomm\"], function(){console.log(\"GLOWCOMM LOADED\");})"
      ],
      "text/plain": [
       "<IPython.core.display.Javascript object>"
      ]
     },
     "metadata": {},
     "output_type": "display_data"
    },
    {
     "data": {
      "text/html": [
       "<div id=\"glowscript\" class=\"glowscript\"></div>"
      ],
      "text/plain": [
       "<IPython.core.display.HTML object>"
      ]
     },
     "metadata": {},
     "output_type": "display_data"
    },
    {
     "data": {
      "application/javascript": [
       "window.__context = { glowscript_container: $(\"#glowscript\").removeAttr(\"id\")}"
      ],
      "text/plain": [
       "<IPython.core.display.Javascript object>"
      ]
     },
     "metadata": {},
     "output_type": "display_data"
    },
    {
     "name": "stdout",
     "output_type": "stream",
     "text": [
      "Choose time step in seconds100000\n"
     ]
    },
    {
     "data": {
      "text/html": [
       "<div id=\"glowscript\" class=\"glowscript\"></div>"
      ],
      "text/plain": [
       "<IPython.core.display.HTML object>"
      ]
     },
     "metadata": {},
     "output_type": "display_data"
    },
    {
     "data": {
      "application/javascript": [
       "window.__context = { glowscript_container: $(\"#glowscript\").removeAttr(\"id\")}"
      ],
      "text/plain": [
       "<IPython.core.display.Javascript object>"
      ]
     },
     "metadata": {},
     "output_type": "display_data"
    },
    {
     "name": "stdout",
     "output_type": "stream",
     "text": [
      "Would you like to choose variables?: (Yes/No)No\n",
      "Choose method?: Euler, Midpoint or 4th order Runge Kutta (E/M/RK)E\n",
      "You have chosen Euler Method\n",
      "Choose simultation length in years2\n"
     ]
    }
   ],
   "source": [
    "import numpy as np\n",
    "from vpython import *\n",
    "from numpy import arange\n",
    "h = int(input(\"Choose time step in seconds\"))\n",
    "yearlength= (3600) * (24) * (365.25)\n",
    "scene = canvas()\n",
    "q=0\n",
    "while q<100000:\n",
    "    setup=input(\"Would you like to choose variables?: (Yes/No)\")\n",
    "    if setup== 'Yes':\n",
    "        ##Sun(a)\n",
    "        Sm = float(input(\"Choose the mass of the sun?:\"))\n",
    "        ax=float(input(\"Choose the Sun's starting position in x-axis\"))\n",
    "        ay=float(input(\"Choose the Sun's starting position in y-axis\"))\n",
    "        az=float(input(\"Choose the Sun's starting position in z-axis\"))\n",
    "        vax=float(input(\"Choose the Sun's intial velocity in x-axis \"))\n",
    "        vay=float(input(\"Choose the Sun's intial velocity in y-axis \"))\n",
    "        vaz=0\n",
    "        ra=float(input(\"Choose radius of the Sun\"))\n",
    "        ##Earth(b)\n",
    "        Em = float(input(\"Choose mass of the Earth?:\"))\n",
    "        bx=float(input(\"Choose the Earth's starting position in x-axis\"))\n",
    "        by=float(input(\"Choose the Earth's starting position in y-axis\"))\n",
    "        bz=float(input(\"Choose the Earth's starting position in z-axis\"))\n",
    "        vbx=float(input(\"Choose the Earth's intial velocity in x-axis \"))\n",
    "        vby=float(input(\"Choose the Earth's intial velocity in y-axis \"))\n",
    "        vbz=0\n",
    "        rb=float(input(\"Choose radius of Earth\"))\n",
    "        ##Mars(c)\n",
    "        Mm = float(input(\"Choose mass of mars?:\"))\n",
    "        cx=float(input(\"Choose mars' starting position in x-axis\"))\n",
    "        cy=float(input(\"Choose mars' starting position in y-axis\"))\n",
    "        cz=float(input(\"Choose mars' starting position in z-axis\"))\n",
    "        vcx=float(input(\"Choose the mars' intial velocity in x-axis \"))\n",
    "        vcy=float(input(\"Choose the mars' intial velocity in y-axis \"))\n",
    "        vcz=0\n",
    "        rc=float(input(\"Choose radius of mars\"))\n",
    "        break\n",
    "    if setup== 'No':\n",
    "        ##Sun(a)\n",
    "        Sm =2e30\n",
    "        ax=0\n",
    "        ay=0\n",
    "        az=0\n",
    "        vax=0\n",
    "        vay=0\n",
    "        vaz=0\n",
    "        ra=3e10\n",
    "        ##Earth(b)\n",
    "        Em = 4e24\n",
    "        bx=1.49e11\n",
    "        by=0\n",
    "        bz=0\n",
    "        vbx=0\n",
    "        vby=30000\n",
    "        vbz=0\n",
    "        rb=1.5e10\n",
    "        ##Mars(c)\n",
    "        Mm = 6e23\n",
    "        cx=2.06e11\n",
    "        cy=0\n",
    "        cz=0\n",
    "        vcx=0\n",
    "        vcy=24000\n",
    "        vcz=0\n",
    "        rc=1e10\n",
    "        break\n",
    "    elif setup != 'Yes' or 'No':\n",
    "        print(\"Would you like to choose variables?:\")\n",
    "        q=q+1\n",
    "Sun = sphere(pos=vector(ax,ay,az), radius=ra, color=color.yellow,make_trail = True)\n",
    "Earth = sphere(pos=vector(bx,by,bz), radius=rb, color=color.blue,make_trail = True)\n",
    "Mars = sphere(pos=vector(cx,cy,cz), radius=rc, color=color.red,make_trail = True)\n",
    "\n",
    "Sun.velocity = vector(vax,vay,vaz)\n",
    "Earth.velocity = vector(vbx,vby,vbz)\n",
    "Mars.velocity = vector(vcx,vcy,vcz)\n",
    "\n",
    "\n",
    "def equations(x, t):\n",
    "    ##Note to self: check week 11 worksheet\n",
    "    Gc = 6.67e-11\n",
    "    dxdt = x[4:]\n",
    "    dxdt.append(-Gc * Sm * x[0] / (x[0]**2 + x[1]**2)**(3/2) + Gc * Mm * (x[2] - x[0]) / ((x[2] - x[0])**2 + (x[3] - x[1])**2)**(3/2))\n",
    "    dxdt.append(-Gc * Sm * x[1] / (x[0]**2 + x[1]**2)**(3/2) + Gc * Mm * (x[3] - x[1]) / ((x[2] - x[0])**2 + (x[3] - x[1])**2)**(3/2))\n",
    "    dxdt.append(-Gc * Sm * x[2] / (x[2]**2 + x[3]**2)**(3/2) - Gc * Em * (x[2] - x[0]) / ((x[2] - x[0])**2 + (x[3] - x[1])**2)**(3/2))\n",
    "    dxdt.append(-Gc * Sm * x[3] / (x[2]**2 + x[3]**2)**(3/2) - Gc * Em * (x[3] - x[1]) / ((x[2] - x[0])**2 + (x[3] - x[1])**2)**(3/2))\n",
    "    answers=np.array((dxdt))\n",
    "    return answers\n",
    "\n",
    "\n",
    "\n",
    "j=0\n",
    "while j<1000000:\n",
    "    method=input(\"Choose method?: Euler, Midpoint or 4th order Runge Kutta (E/M/RK)\")\n",
    "    if method == 'E':\n",
    "        print(\"You have chosen Euler Method\")\n",
    "        def Emethod(x, t, h,f):\n",
    "            x2 = []\n",
    "            f=equations(x,t)\n",
    "            for i in range(len(x)):\n",
    "                x2.append(x[i] + h * f[i])\n",
    "            return x2   \n",
    "        Mets = Emethod\n",
    "        break\n",
    "        \n",
    "    if method == 'M':        \n",
    "        print(\"You have chosen Midpoint Method\")\n",
    "        def Emethod(x, t, h,f):\n",
    "            x2 = []\n",
    "            f=equations(x,t)\n",
    "            for i in range(len(x)):\n",
    "                x2.append(x[i] + h * f[i])\n",
    "            return x2\n",
    "        def Midpoint(x,t,h,f):\n",
    "            mid= Emethod(x,t,h/2,f)\n",
    "            x3 = []\n",
    "            f= equations(mid,t)\n",
    "            for i in range(len(x)):\n",
    "                x3.append(x[i] + h * f[i])\n",
    "            return x3\n",
    "        Mets = Midpoint\n",
    "        break\n",
    "        \n",
    "    if method == 'RK':\n",
    "        print(\"You have chosen 4th order Runge Kutta Method\")\n",
    "        def Emethod(x, t, h,f):\n",
    "                x5 = []\n",
    "                for i in range(len(x)):\n",
    "                    x5.append(x[i] + h * f[i])\n",
    "                return x5\n",
    "        def RKmethod(x, t, h,f):\n",
    "            s1 = equations(x, t)\n",
    "            xs1 = Emethod(x,t,h/2, s1)\n",
    "            s2 = equations(xs1, t + h/2)\n",
    "            xs2 = Emethod(x,t,h/2,s2)\n",
    "            s3 = equations(xs2, t + h/2)\n",
    "            xs3 = Emethod(x,t, h,s3)\n",
    "            s4 = equations(xs3, t + h)\n",
    "            return [x[i] + (s1[i] + 2 * s2[i] + 2 * s3[i] + s4[i]) * h / 6 for i in range(len(x))]\n",
    "        Mets = RKmethod\n",
    "        break\n",
    "        \n",
    "    elif method !='E'or'M'or'RK':\n",
    "        print(\"Not a valid input\")\n",
    "        j=j+1\n",
    "        \n",
    "        \n",
    "TIntial=0    \n",
    "TFinal=int(input(\"Choose simultation length in years\"))*yearlength\n",
    "while TFinal > TIntial:\n",
    "    for t in np.arange(TIntial, TFinal, h):\n",
    "        rate(5)\n",
    "        x4 = Mets([Earth.pos.x, Earth.pos.y, Mars.pos.x, Mars.pos.y, Earth.velocity.x, Earth.velocity.y, Mars.velocity.x, Mars.velocity.y],t, h,equations)\n",
    "        Earth.pos.x, Earth.pos.y = x4[0:2]\n",
    "        Mars.pos.x, Mars.pos.y = x4[2:4]\n",
    "        Earth.velocity.x, Earth.velocity.y = x4[4:6]\n",
    "        Mars.velocity.x, Mars.velocity.y = x4[6:8]\n",
    "\n",
    "    TFinal=TFinal+int(input(\"How much longer would you like to simulate for?: \"))*yearlength\n"
   ]
  },
  {
   "cell_type": "code",
   "execution_count": null,
   "metadata": {
    "collapsed": true
   },
   "outputs": [],
   "source": []
  },
  {
   "cell_type": "code",
   "execution_count": null,
   "metadata": {
    "collapsed": true
   },
   "outputs": [],
   "source": []
  }
 ],
 "metadata": {
  "anaconda-cloud": {},
  "kernelspec": {
   "display_name": "VPython",
   "language": "python",
   "name": "vpython"
  },
  "language_info": {
   "codemirror_mode": {
    "name": "ipython",
    "version": 3
   },
   "file_extension": ".py",
   "mimetype": "text/x-python",
   "name": "python",
   "nbconvert_exporter": "python",
   "pygments_lexer": "ipython3",
   "version": "3.6.1"
  }
 },
 "nbformat": 4,
 "nbformat_minor": 1
}
